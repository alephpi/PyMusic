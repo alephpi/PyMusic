{
 "cells": [
  {
   "cell_type": "code",
   "execution_count": 4,
   "metadata": {},
   "outputs": [
    {
     "name": "stdout",
     "output_type": "stream",
     "text": [
      "[81, 54.0, 72.0, 48.0, 64.0, 42.666666666666664, 56.888888888888886, 75.85185185185185, 50.5679012345679, 67.4238683127572, 44.94924554183813, 59.93232738911751, 39.95488492607834]\n"
     ]
    },
    {
     "ename": "TypeError",
     "evalue": "list() takes no keyword arguments",
     "output_type": "error",
     "traceback": [
      "\u001b[1;31m---------------------------------------------------------------------------\u001b[0m",
      "\u001b[1;31mTypeError\u001b[0m                                 Traceback (most recent call last)",
      "\u001b[1;32m~\\AppData\\Local\\Temp\\ipykernel_17864\\1070050018.py\u001b[0m in \u001b[0;36m<module>\u001b[1;34m\u001b[0m\n\u001b[0;32m      6\u001b[0m \u001b[0mS\u001b[0m \u001b[1;33m=\u001b[0m \u001b[0mTemperament\u001b[0m\u001b[1;33m.\u001b[0m\u001b[0mSanfenSunyifa\u001b[0m\u001b[1;33m(\u001b[0m\u001b[1;33m)\u001b[0m\u001b[1;33m\u001b[0m\u001b[1;33m\u001b[0m\u001b[0m\n\u001b[0;32m      7\u001b[0m \u001b[1;33m\u001b[0m\u001b[0m\n\u001b[1;32m----> 8\u001b[1;33m \u001b[0mC_major\u001b[0m \u001b[1;33m=\u001b[0m \u001b[0mKey\u001b[0m\u001b[1;33m.\u001b[0m\u001b[0mfrom_classical_mode\u001b[0m\u001b[1;33m(\u001b[0m\u001b[0mC\u001b[0m\u001b[1;33m,\u001b[0m \u001b[1;34m'Ionian'\u001b[0m\u001b[1;33m,\u001b[0m \u001b[0mJI\u001b[0m\u001b[1;33m)\u001b[0m\u001b[1;33m\u001b[0m\u001b[1;33m\u001b[0m\u001b[0m\n\u001b[0m\u001b[0;32m      9\u001b[0m \u001b[0mD_major\u001b[0m \u001b[1;33m=\u001b[0m \u001b[0mKey\u001b[0m\u001b[1;33m.\u001b[0m\u001b[0mfrom_classical_mode\u001b[0m\u001b[1;33m(\u001b[0m\u001b[0mD\u001b[0m\u001b[1;33m,\u001b[0m \u001b[1;34m'Ionian'\u001b[0m\u001b[1;33m,\u001b[0m \u001b[0mJI\u001b[0m\u001b[1;33m)\u001b[0m\u001b[1;33m\u001b[0m\u001b[1;33m\u001b[0m\u001b[0m\n\u001b[0;32m     10\u001b[0m \u001b[0mDorian_C\u001b[0m \u001b[1;33m=\u001b[0m \u001b[0mKey\u001b[0m\u001b[1;33m.\u001b[0m\u001b[0mfrom_classical_mode\u001b[0m\u001b[1;33m(\u001b[0m\u001b[0mC\u001b[0m\u001b[1;33m,\u001b[0m \u001b[1;34m'Dorian'\u001b[0m\u001b[1;33m,\u001b[0m \u001b[0mJI\u001b[0m\u001b[1;33m)\u001b[0m\u001b[1;33m\u001b[0m\u001b[1;33m\u001b[0m\u001b[0m\n",
      "\u001b[1;32me:\\WORKS\\计算机\\Python\\PyMusic\\Tunning.py\u001b[0m in \u001b[0;36mfrom_classical_mode\u001b[1;34m(cls, tonic, mode, temperament)\u001b[0m\n\u001b[0;32m    147\u001b[0m             \u001b[0mscale\u001b[0m \u001b[1;33m=\u001b[0m \u001b[0mKey\u001b[0m\u001b[1;33m.\u001b[0m\u001b[0mdiatonic\u001b[0m\u001b[1;33m\u001b[0m\u001b[1;33m\u001b[0m\u001b[0m\n\u001b[0;32m    148\u001b[0m         \u001b[1;32melif\u001b[0m \u001b[0mmode\u001b[0m \u001b[1;32min\u001b[0m \u001b[0mKey\u001b[0m\u001b[1;33m.\u001b[0m\u001b[0mMODE\u001b[0m\u001b[1;33m[\u001b[0m\u001b[1;34m'pentatonic'\u001b[0m\u001b[1;33m]\u001b[0m\u001b[1;33m.\u001b[0m\u001b[0mkeys\u001b[0m\u001b[1;33m(\u001b[0m\u001b[1;33m)\u001b[0m\u001b[1;33m:\u001b[0m\u001b[1;33m\u001b[0m\u001b[1;33m\u001b[0m\u001b[0m\n\u001b[1;32m--> 149\u001b[1;33m             \u001b[0mrotation\u001b[0m \u001b[1;33m=\u001b[0m \u001b[0mKey\u001b[0m\u001b[1;33m.\u001b[0m\u001b[0mMODE\u001b[0m\u001b[1;33m[\u001b[0m\u001b[1;34m'pentatonic'\u001b[0m\u001b[1;33m]\u001b[0m\u001b[1;33m[\u001b[0m\u001b[0mmode\u001b[0m\u001b[1;33m]\u001b[0m\u001b[1;33m\u001b[0m\u001b[1;33m\u001b[0m\u001b[0m\n\u001b[0m\u001b[0;32m    150\u001b[0m             \u001b[0mscale\u001b[0m \u001b[1;33m=\u001b[0m \u001b[0mKey\u001b[0m\u001b[1;33m.\u001b[0m\u001b[0mpentatonic\u001b[0m\u001b[1;33m\u001b[0m\u001b[1;33m\u001b[0m\u001b[0m\n\u001b[0;32m    151\u001b[0m         \u001b[1;32mreturn\u001b[0m \u001b[0mcls\u001b[0m\u001b[1;33m(\u001b[0m\u001b[0mtonic\u001b[0m\u001b[1;33m,\u001b[0m \u001b[0mscale\u001b[0m\u001b[1;33m,\u001b[0m \u001b[0mrotation\u001b[0m\u001b[1;33m,\u001b[0m \u001b[0mtemperament\u001b[0m\u001b[1;33m)\u001b[0m\u001b[1;33m\u001b[0m\u001b[1;33m\u001b[0m\u001b[0m\n",
      "\u001b[1;32me:\\WORKS\\计算机\\Python\\PyMusic\\Tunning.py\u001b[0m in \u001b[0;36m__init__\u001b[1;34m(self, tonic, scale, rotation, temperament)\u001b[0m\n\u001b[0;32m    127\u001b[0m         \u001b[0mself\u001b[0m\u001b[1;33m.\u001b[0m\u001b[0mtonic\u001b[0m\u001b[1;33m:\u001b[0m \u001b[0mNote\u001b[0m \u001b[1;33m=\u001b[0m \u001b[0mtonic\u001b[0m \u001b[1;31m# define the tonic\u001b[0m\u001b[1;33m\u001b[0m\u001b[1;33m\u001b[0m\u001b[0m\n\u001b[0;32m    128\u001b[0m         \u001b[0mnote_rotation\u001b[0m \u001b[1;33m=\u001b[0m \u001b[0mKey\u001b[0m\u001b[1;33m.\u001b[0m\u001b[0mNOTE_NAME\u001b[0m\u001b[1;33m.\u001b[0m\u001b[0mindex\u001b[0m\u001b[1;33m(\u001b[0m\u001b[0mself\u001b[0m\u001b[1;33m.\u001b[0m\u001b[0mtonic\u001b[0m\u001b[1;33m.\u001b[0m\u001b[0mname\u001b[0m\u001b[1;33m)\u001b[0m\u001b[1;33m\u001b[0m\u001b[1;33m\u001b[0m\u001b[0m\n\u001b[1;32m--> 129\u001b[1;33m         \u001b[0maux\u001b[0m \u001b[1;33m=\u001b[0m \u001b[0mdeque\u001b[0m\u001b[1;33m(\u001b[0m\u001b[0mKey\u001b[0m\u001b[1;33m.\u001b[0m\u001b[0mNOTE_NAME\u001b[0m\u001b[1;33m)\u001b[0m\u001b[1;33m\u001b[0m\u001b[1;33m\u001b[0m\u001b[0m\n\u001b[0m\u001b[0;32m    130\u001b[0m         \u001b[0maux\u001b[0m\u001b[1;33m.\u001b[0m\u001b[0mrotate\u001b[0m\u001b[1;33m(\u001b[0m\u001b[1;33m-\u001b[0m\u001b[0mnote_rotation\u001b[0m\u001b[1;33m)\u001b[0m\u001b[1;33m\u001b[0m\u001b[1;33m\u001b[0m\u001b[0m\n\u001b[0;32m    131\u001b[0m         \u001b[0mself\u001b[0m\u001b[1;33m.\u001b[0m\u001b[0mnotes\u001b[0m\u001b[1;33m:\u001b[0m \u001b[0mlist\u001b[0m \u001b[1;33m=\u001b[0m \u001b[0mlist\u001b[0m\u001b[1;33m(\u001b[0m\u001b[0maux\u001b[0m\u001b[1;33m)\u001b[0m\u001b[1;33m\u001b[0m\u001b[1;33m\u001b[0m\u001b[0m\n",
      "\u001b[1;31mTypeError\u001b[0m: list() takes no keyword arguments"
     ]
    }
   ],
   "source": [
    "# test scripts\n",
    "from Tunning import *\n",
    "C = Note('C', 256)\n",
    "D = Note('D', 288)\n",
    "JI = Temperament.JustIntonation()\n",
    "S = Temperament.SanfenSunyifa()\n",
    "\n",
    "C_major = Key.from_classical_mode(C, 'Ionian', JI)\n",
    "D_major = Key.from_classical_mode(D, 'Ionian', JI)\n",
    "Dorian_C = Key.from_classical_mode(C, 'Dorian', JI)\n",
    "Dorian_D = Key.from_classical_mode(D, 'Dorian', JI)\n",
    "\n",
    "\n",
    "Gong_C = Key.from_classical_mode(C, 'Gong', S)\n",
    "Gong_D = Key.from_classical_mode(D, 'Gong', S)\n",
    "Shang_C = Key.from_classical_mode(C, 'Shang', S)\n",
    "Shang_D = Key.from_classical_mode(D, 'Shang', S)\n"
   ]
  },
  {
   "cell_type": "code",
   "execution_count": null,
   "metadata": {},
   "outputs": [],
   "source": [
    "list(Gong_C.scale.keys())"
   ]
  },
  {
   "cell_type": "code",
   "execution_count": null,
   "metadata": {},
   "outputs": [],
   "source": [
    "Gong_C.plot()"
   ]
  },
  {
   "cell_type": "code",
   "execution_count": null,
   "metadata": {},
   "outputs": [],
   "source": [
    "Gong_C.plot('r')"
   ]
  },
  {
   "cell_type": "code",
   "execution_count": null,
   "metadata": {},
   "outputs": [],
   "source": [
    "Gong_C.plot('p')"
   ]
  },
  {
   "cell_type": "code",
   "execution_count": null,
   "metadata": {},
   "outputs": [],
   "source": [
    "Key.NOTE_NAME.index('C')"
   ]
  },
  {
   "cell_type": "code",
   "execution_count": null,
   "metadata": {},
   "outputs": [],
   "source": [
    "C_major.plot()"
   ]
  },
  {
   "cell_type": "code",
   "execution_count": null,
   "metadata": {},
   "outputs": [],
   "source": []
  }
 ],
 "metadata": {
  "interpreter": {
   "hash": "88279d2366fe020547cde40dd65aa0e3aa662a6ec1f3ca12d88834876c85e1a6"
  },
  "kernelspec": {
   "display_name": "Python 3.7.6 ('base')",
   "language": "python",
   "name": "python3"
  },
  "language_info": {
   "codemirror_mode": {
    "name": "ipython",
    "version": 3
   },
   "file_extension": ".py",
   "mimetype": "text/x-python",
   "name": "python",
   "nbconvert_exporter": "python",
   "pygments_lexer": "ipython3",
   "version": "3.7.6"
  },
  "orig_nbformat": 4
 },
 "nbformat": 4,
 "nbformat_minor": 2
}
